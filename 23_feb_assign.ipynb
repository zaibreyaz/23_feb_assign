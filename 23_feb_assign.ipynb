{
 "cells": [
  {
   "cell_type": "code",
   "execution_count": 1,
   "id": "d99630e2-e331-4789-a4c4-64b366b57a03",
   "metadata": {},
   "outputs": [
    {
     "name": "stdout",
     "output_type": "stream",
     "text": [
      "0     4\n",
      "1     8\n",
      "2    15\n",
      "3    16\n",
      "4    23\n",
      "5    42\n",
      "dtype: int64\n"
     ]
    }
   ],
   "source": [
    "\"\"\"Q1. Create a Pandas Series that contains the following data: 4, 8, 15, 16, 23, and 42. Then, print the series.\"\"\"\n",
    "\n",
    "import pandas as pd\n",
    "\n",
    "data = [4, 8, 15, 16, 23, 42]\n",
    "series = pd.Series(data)\n",
    "print(series)"
   ]
  },
  {
   "cell_type": "code",
   "execution_count": 2,
   "id": "9e6d1d6b-7e72-44e6-9f6d-9635e9a261d6",
   "metadata": {},
   "outputs": [
    {
     "name": "stdout",
     "output_type": "stream",
     "text": [
      "0    WaterMelon\n",
      "1        Banana\n",
      "2         Apple\n",
      "3       Samsung\n",
      "4       Oneplus\n",
      "5            13\n",
      "6            29\n",
      "7            81\n",
      "8           100\n",
      "9         Water\n",
      "dtype: object\n"
     ]
    }
   ],
   "source": [
    "\"\"\"Q2. Create a variable of list type containing 10 elements in it, and apply pandas.Series function on the variable print it.\"\"\"\n",
    "\n",
    "variable = ['WaterMelon', 'Banana', 'Apple', 'Samsung', 'Oneplus', 13, 29, 81, 100, \"Water\"]\n",
    "series = pd.Series(variable)\n",
    "print(series)"
   ]
  },
  {
   "cell_type": "code",
   "execution_count": 3,
   "id": "cd9a0d20-a7a2-4f1e-b849-69ce6880eb3e",
   "metadata": {},
   "outputs": [
    {
     "name": "stdout",
     "output_type": "stream",
     "text": [
      "     Name  Age  Gender\n",
      "0   Alice   25  Female\n",
      "1     Bob   30    Male\n",
      "2  Claire   27  Female\n"
     ]
    }
   ],
   "source": [
    "\"\"\"Q3. Create a Pandas DataFrame that contains the following data: Then, print the DataFrame.\"\"\"\n",
    "\n",
    "data = {\n",
    "    'Name' : ['Alice', 'Bob', 'Claire'],\n",
    "    'Age' : [25, 30, 27],\n",
    "    'Gender' : ['Female', 'Male', 'Female']\n",
    "}\n",
    "\n",
    "df = pd.DataFrame(data)\n",
    "print(df)"
   ]
  },
  {
   "cell_type": "code",
   "execution_count": 4,
   "id": "5309e660-144a-4ddb-b859-981e8dd8c94a",
   "metadata": {},
   "outputs": [
    {
     "name": "stdout",
     "output_type": "stream",
     "text": [
      "0    10\n",
      "1    20\n",
      "2    30\n",
      "3    40\n",
      "4    50\n",
      "dtype: int64\n",
      "   numbers labels\n",
      "0       10      a\n",
      "1       20      b\n",
      "2       30      c\n",
      "3       40      d\n",
      "4       50      e\n"
     ]
    }
   ],
   "source": [
    "\"\"\"Q4. What is ‘DataFrame’ in pandas and how is it different from pandas.series? Explain with an example.\n",
    "\n",
    "    Ans: In Pandas, a DataFrame is a two-dimensional labeled data structure with columns of potentially different types, \n",
    "         similar to a table in a relational database. Each column in a DataFrame is represented by a pandas.Series, \n",
    "         and multiple Series are combined into a DataFrame to represent a tabular data structure.\n",
    "\n",
    "         The main difference between a Pandas Series and a DataFrame is that a Series is a one-dimensional labeled array that \n",
    "         can contain any data type (numeric, string, boolean, etc.), while a DataFrame is a two-dimensional labeled \n",
    "         data structure that is composed of multiple Series, each of which can have a different data type. \n",
    "         Another difference is that a DataFrame can have multiple columns, whereas a Series has only one column.\n",
    "         \n",
    "         Example: \n",
    "\"\"\"\n",
    "\n",
    "import pandas as pd\n",
    "\n",
    "series = pd.Series([10, 20, 30, 40, 50])\n",
    "\n",
    "data = {'numbers': [10, 20, 30, 40, 50], 'labels': ['a', 'b', 'c', 'd', 'e']}\n",
    "df = pd.DataFrame(data)\n",
    "\n",
    "print(series)\n",
    "print(df)"
   ]
  },
  {
   "cell_type": "code",
   "execution_count": null,
   "id": "59d3c80d-7b50-4880-a21a-b275d13e6d36",
   "metadata": {},
   "outputs": [],
   "source": [
    "\"\"\"Q5. What are some common functions you can use to manipulate data in a Pandas DataFrame? Can\n",
    "       you give an example of when you might use one of these functions?\n",
    "       \n",
    "   Ans: There are many common functions available in Pandas for manipulating data in a DataFrame. Here are some examples:\n",
    "\n",
    "        1. head() and tail(): these functions allow you to view the first or last n rows of a DataFrame. \n",
    "            For example, you might use df.head(10) to view the first 10 rows of a DataFrame.\n",
    "        2. describe(): this function provides summary statistics for each numerical column in the DataFrame, \n",
    "            such as count, mean, and standard deviation. For example, you might use df.describe() to view a \n",
    "            summary of the numerical data in the DataFrame.\n",
    "        3. dropna(): this function allows you to remove any rows with missing data. \n",
    "            For example, you might use df.dropna() to remove any rows with missing data in a DataFrame.\n",
    "        4. groupby(): this function allows you to group the data in the DataFrame by one or more columns and perform an \n",
    "            operation on each group. For example, you might use df.groupby('category').mean() to group the data by a categorical variable and calculate the mean value for each group.\n",
    "        5. sort_values(): this function allows you to sort the DataFrame by one or more columns. \n",
    "            For example, you might use df.sort_values('date') to sort the DataFrame by a date column.\n",
    "        6. apply(): this function allows you to apply a function to each column or row in the DataFrame. \n",
    "            For example, you might use df.apply(lambda x: x**2) to square each value in the DataFrame.\n",
    "        7. merge(): this function allows you to combine two DataFrames based on a common column. \n",
    "            For example, you might use pd.merge(df1, df2, on='id') to merge two DataFrames based on a shared id column.\n",
    "\"\"\""
   ]
  },
  {
   "cell_type": "code",
   "execution_count": null,
   "id": "6947933a-7d88-4a81-8408-8b4aaad8c88e",
   "metadata": {},
   "outputs": [],
   "source": [
    "\"\"\"Q6. Which of the following is mutable in nature Series, DataFrame, Panel?\n",
    "\n",
    "    Ans: In Pandas, both Series and DataFrame are mutable, which means that you can modify the data they contain \n",
    "         after they have been created.\n",
    "\"\"\""
   ]
  },
  {
   "cell_type": "code",
   "execution_count": 5,
   "id": "bc213c2a-d725-4bcd-b5c1-9d6caec8a0d9",
   "metadata": {},
   "outputs": [
    {
     "name": "stdout",
     "output_type": "stream",
     "text": [
      "      Name  Age  Gender\n",
      "0    Alice   25  Female\n",
      "1      Bob   30    Male\n",
      "2  Charlie   35  Female\n"
     ]
    }
   ],
   "source": [
    "\"\"\"Q7. Create a DataFrame using multiple Series. Explain with an example.\"\"\"\n",
    "\n",
    "import pandas as pd\n",
    "\n",
    "\n",
    "names = pd.Series(['Alice', 'Bob', 'Charlie'])\n",
    "ages = pd.Series([25, 30, 35])\n",
    "gender = pd.Series(['Female', 'Male', 'Female'])\n",
    "\n",
    "df = pd.DataFrame({'Name': names, 'Age': ages, 'Gender': gender})\n",
    "\n",
    "print(df)"
   ]
  },
  {
   "cell_type": "code",
   "execution_count": null,
   "id": "ccfc193e-3572-41c3-98de-6281eb12bc0a",
   "metadata": {},
   "outputs": [],
   "source": []
  }
 ],
 "metadata": {
  "kernelspec": {
   "display_name": "Python 3 (ipykernel)",
   "language": "python",
   "name": "python3"
  },
  "language_info": {
   "codemirror_mode": {
    "name": "ipython",
    "version": 3
   },
   "file_extension": ".py",
   "mimetype": "text/x-python",
   "name": "python",
   "nbconvert_exporter": "python",
   "pygments_lexer": "ipython3",
   "version": "3.10.8"
  }
 },
 "nbformat": 4,
 "nbformat_minor": 5
}
